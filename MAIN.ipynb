{
 "cells": [
  {
   "cell_type": "code",
   "execution_count": 7,
   "metadata": {},
   "outputs": [],
   "source": [
    "import pandas as pd\n",
    "import numpy as np\n",
    "from random import random\n",
    "from DGP.DGP import dgp2, plot_hists\n",
    "from sklearn.model_selection import train_test_split\n",
    "import matplotlib.pyplot as plt\n",
    "import datetime\n",
    "import seaborn as sns"
   ]
  },
  {
   "cell_type": "markdown",
   "metadata": {},
   "source": [
    "### Import Causal Forest packages:"
   ]
  },
  {
   "cell_type": "code",
   "execution_count": 6,
   "metadata": {},
   "outputs": [],
   "source": [
    "from sklearn.tree import DecisionTreeRegressor\n",
    "from econml.dml import CausalForestDML as CausalForest\n",
    "from sklearn.linear_model import LassoCV"
   ]
  },
  {
   "cell_type": "markdown",
   "metadata": {},
   "source": [
    "<h2><center>Generating data to estimate treatment effect: </center></h2>\n",
    "$$\n",
    "Y_i = -1.5D +  3D \\cdot \\mathcal{I}_{\\{x_1 \\geq 0\\}} + x_2 + x_3 + x_4 + e_i\n",
    "$$\n",
    "<h3><center> </center></h3>\n",
    "$$\n",
    "\\mathcal{I}_{\\{x_1 \\geq 0\\}}=1: \\text{if  } x_1 >= 0, \n",
    "$$\n",
    "\n",
    "\n",
    "<h2><center>Treatment effect: </center></h2>\n",
    "$$\\tau_i(x) = -1.5 + 3 \\cdot \\mathcal{I}_{\\{x_1 \\geq 0\\}}\n",
    "$$\n",
    "\n",
    "<h2><center><img src=\"other/t1.png\"></center></h2>"
   ]
  },
  {
   "cell_type": "code",
   "execution_count": 3,
   "metadata": {},
   "outputs": [],
   "source": [
    "n = 3000 #sample size\n",
    "var_e = 0.01 #variance of error term\n",
    "X, y, d = dgp2(n, var_e) #function to generate the sample"
   ]
  },
  {
   "cell_type": "code",
   "execution_count": 4,
   "metadata": {},
   "outputs": [
    {
     "data": {
      "text/plain": [
       "<Figure size 1080x1080 with 0 Axes>"
      ]
     },
     "metadata": {},
     "output_type": "display_data"
    },
    {
     "data": {
      "image/png": "[encoded data removed]",
      "text/plain": [
       "<Figure size 432x288 with 6 Axes>"
      ]
     },
     "metadata": {
      "needs_background": "light"
     },
     "output_type": "display_data"
    }
   ],
   "source": [
    "plot_hists(X,y,d)"
   ]
  },
  {
   "cell_type": "code",
   "execution_count": 4,
   "metadata": {},
   "outputs": [],
   "source": [
    "x1 = (X[:,0]).reshape(-1,1)\n",
    "x2 = (X[:,1]).reshape(-1,1)\n",
    "x3 = (X[:,2]).reshape(-1,1)\n",
    "x4 = (X[:,3]).reshape(-1,1)\n",
    "t1pos = np.mean(y[(x1>= 0) & (d == 1)]) - np.mean(y[(x1>= 0) & (d == 0)])\n",
    "t1neg = np.mean(y[(x1< 0) & (d == 1)]) - np.mean(y[(x1< 0) & (d == 0)])\n",
    "t2pos = np.mean(y[(x2>= 0) & (d == 1)]) - np.mean(y[(x2>= 0) & (d == 0)])\n",
    "t2neg = np.mean(y[(x2< 0) & (d == 1)]) - np.mean(y[(x2< 0) & (d == 0)])\n",
    "t3pos = np.mean(y[(x3>= 0) & (d == 1)]) - np.mean(y[(x3>= 0) & (d == 0)])\n",
    "t3neg = np.mean(y[(x3< 0) & (d == 1)]) - np.mean(y[(x3< 0) & (d == 0)])\n",
    "t4pos = np.mean(y[(x4>= 0) & (d == 1)]) - np.mean(y[(x4>= 0) & (d == 0)])\n",
    "t4neg = np.mean(y[(x4< 0) & (d == 1)]) - np.mean(y[(x4< 0) & (d == 0)])\n",
    "x_axis = ['x4<0', 'x3<0', 'x2<0', 'x1<0', 'x1>=0', 'x2>=0', 'x3>=0', 'x4>=0']\n",
    "tau = [t4neg, t3neg, t2neg, t1neg, t1pos, t2pos, t3pos, t4pos]"
   ]
  },
  {
   "cell_type": "code",
   "execution_count": 5,
   "metadata": {},
   "outputs": [
    {
     "data": {
      "text/plain": [
       "<seaborn.axisgrid.FacetGrid at 0x2437c628d60>"
      ]
     },
     "execution_count": 5,
     "metadata": {},
     "output_type": "execute_result"
    },
    {
     "data": {
      "image/png": "[encoded data removed]",
      "text/plain": [
       "<Figure size 360x360 with 1 Axes>"
      ]
     },
     "metadata": {},
     "output_type": "display_data"
    }
   ],
   "source": [
    "sns.set_theme()\n",
    "g = sns.relplot(x=x_axis, y=tau)\n",
    "g.set_axis_labels(\"Feature values\", \"True Average Treatment Effect\")"
   ]
  },
  {
   "cell_type": "code",
   "execution_count": 6,
   "metadata": {},
   "outputs": [],
   "source": [
    "df = pd.DataFrame(np.concatenate((np.concatenate((y,X),axis =1),d), axis = 1), columns = ['y', 'x1', 'x2', 'x3', 'x4', 'd'])\n",
    "# divide data into traning and test\n",
    "train, test = train_test_split(df, test_size=0.2)\n",
    "#define features, outcome variable, treatment \n",
    "regressors = ['x1', 'x2', 'x3', 'x4']\n",
    "Y = train['y']\n",
    "T = train['d']\n",
    "X = train[regressors]\n",
    "W = None\n",
    "X_test = test[regressors]"
   ]
  },
  {
   "cell_type": "code",
   "execution_count": 7,
   "metadata": {},
   "outputs": [],
   "source": [
    "# Estimate causal forest\n",
    "estimator = CausalForest(criterion='het', \n",
    "                                n_estimators=10000,       \n",
    "                                min_samples_leaf=10, \n",
    "                                max_depth=3,\n",
    "                                honest=True,\n",
    "                                inference=True,\n",
    "                                cv=10,\n",
    "                                model_t=LassoCV(), \n",
    "                                model_y=LassoCV(),\n",
    "                                )"
   ]
  },
  {
   "cell_type": "code",
   "execution_count": 8,
   "metadata": {},
   "outputs": [
    {
     "data": {
      "text/plain": [
       "<econml.dml.causal_forest.CausalForestDML at 0x243069289a0>"
      ]
     },
     "execution_count": 8,
     "metadata": {},
     "output_type": "execute_result"
    }
   ],
   "source": [
    "# fit the CF\n",
    "estimator.fit(Y,T,X=X, W=W)"
   ]
  },
  {
   "cell_type": "code",
   "execution_count": 9,
   "metadata": {},
   "outputs": [],
   "source": [
    "# Find estimated treatment effects on training and test samples\n",
    "effects_train = estimator.effect(X)\n",
    "effects_test = estimator.effect(X_test)"
   ]
  },
  {
   "cell_type": "code",
   "execution_count": 10,
   "metadata": {
    "jupyter": {
     "source_hidden": true
    }
   },
   "outputs": [],
   "source": [
    "x1_tr = np.array(train['x1']).reshape(-1,1)\n",
    "x1_te = np.array(test['x1']).reshape(-1,1)\n",
    "x2_tr = np.array(train['x2']).reshape(-1,1)\n",
    "x2_te = np.array(test['x2']).reshape(-1,1)\n",
    "x3_tr = np.array(train['x3']).reshape(-1,1)\n",
    "x3_te = np.array(test['x3']).reshape(-1,1)\n",
    "x4_tr = np.array(train['x4']).reshape(-1,1)\n",
    "x4_te = np.array(test['x4']).reshape(-1,1)\n",
    "effects_test =effects_test.reshape(-1,1) \n",
    "effects_train = effects_train.reshape(-1,1) "
   ]
  },
  {
   "cell_type": "code",
   "execution_count": 11,
   "metadata": {},
   "outputs": [],
   "source": [
    "pred_tr = [np.mean(effects_train[(x4_tr< 0)]),\n",
    "np.mean(effects_train[(x3_tr< 0)]),\n",
    "np.mean(effects_train[(x2_tr< 0)]),\n",
    "np.mean(effects_train[(x1_tr< 0)]),\n",
    "np.mean(effects_train[(x1_tr>= 0)]),\n",
    "np.mean(effects_train[(x2_tr>= 0)]),\n",
    "np.mean(effects_train[(x3_tr>= 0)]),\n",
    "np.mean(effects_train[(x4_tr>= 0)])]\n",
    "pred_te = [np.mean(effects_test[(x4_te< 0)]),\n",
    "np.mean(effects_test[(x3_te< 0)]),\n",
    "np.mean(effects_test[(x2_te< 0)]),\n",
    "np.mean(effects_test[(x1_te< 0)]),\n",
    "np.mean(effects_test[(x1_te>= 0)]),\n",
    "np.mean(effects_test[(x2_te>= 0)]),\n",
    "np.mean(effects_test[(x3_te>= 0)]),\n",
    "np.mean(effects_test[(x4_te>= 0)])]"
   ]
  },
  {
   "cell_type": "code",
   "execution_count": 12,
   "metadata": {},
   "outputs": [
    {
     "data": {
      "text/html": [
       "<div>\n",
       "<style scoped>\n",
       "    .dataframe tbody tr th:only-of-type {\n",
       "        vertical-align: middle;\n",
       "    }\n",
       "\n",
       "    .dataframe tbody tr th {\n",
       "        vertical-align: top;\n",
       "    }\n",
       "\n",
       "    .dataframe thead th {\n",
       "        text-align: right;\n",
       "    }\n",
       "</style>\n",
       "<table border=\"1\" class=\"dataframe\">\n",
       "  <thead>\n",
       "    <tr style=\"text-align: right;\">\n",
       "      <th></th>\n",
       "      <th>Feature Condition</th>\n",
       "      <th>True Treatment Effect</th>\n",
       "      <th>Estimated TE (training)</th>\n",
       "      <th>Estimated TE (test)</th>\n",
       "    </tr>\n",
       "  </thead>\n",
       "  <tbody>\n",
       "    <tr>\n",
       "      <th>0</th>\n",
       "      <td>x4&lt;0</td>\n",
       "      <td>-0.093856</td>\n",
       "      <td>-0.025719</td>\n",
       "      <td>-0.103333</td>\n",
       "    </tr>\n",
       "    <tr>\n",
       "      <th>1</th>\n",
       "      <td>x3&lt;0</td>\n",
       "      <td>-0.108516</td>\n",
       "      <td>0.006684</td>\n",
       "      <td>-0.091456</td>\n",
       "    </tr>\n",
       "    <tr>\n",
       "      <th>2</th>\n",
       "      <td>x2&lt;0</td>\n",
       "      <td>0.017506</td>\n",
       "      <td>0.044707</td>\n",
       "      <td>0.046705</td>\n",
       "    </tr>\n",
       "    <tr>\n",
       "      <th>3</th>\n",
       "      <td>x1&lt;0</td>\n",
       "      <td>-1.661231</td>\n",
       "      <td>-1.484488</td>\n",
       "      <td>-1.490528</td>\n",
       "    </tr>\n",
       "    <tr>\n",
       "      <th>4</th>\n",
       "      <td>x1&gt;=0</td>\n",
       "      <td>1.689700</td>\n",
       "      <td>1.485996</td>\n",
       "      <td>1.484483</td>\n",
       "    </tr>\n",
       "    <tr>\n",
       "      <th>5</th>\n",
       "      <td>x2&gt;=0</td>\n",
       "      <td>0.075235</td>\n",
       "      <td>-0.028104</td>\n",
       "      <td>-0.100372</td>\n",
       "    </tr>\n",
       "    <tr>\n",
       "      <th>6</th>\n",
       "      <td>x3&gt;=0</td>\n",
       "      <td>0.225001</td>\n",
       "      <td>0.009651</td>\n",
       "      <td>0.035405</td>\n",
       "    </tr>\n",
       "    <tr>\n",
       "      <th>7</th>\n",
       "      <td>x4&gt;=0</td>\n",
       "      <td>0.179339</td>\n",
       "      <td>0.041686</td>\n",
       "      <td>0.043306</td>\n",
       "    </tr>\n",
       "  </tbody>\n",
       "</table>\n",
       "</div>"
      ],
      "text/plain": [
       "  Feature Condition  True Treatment Effect  Estimated TE (training)  \\\n",
       "0              x4<0              -0.093856                -0.025719   \n",
       "1              x3<0              -0.108516                 0.006684   \n",
       "2              x2<0               0.017506                 0.044707   \n",
       "3              x1<0              -1.661231                -1.484488   \n",
       "4             x1>=0               1.689700                 1.485996   \n",
       "5             x2>=0               0.075235                -0.028104   \n",
       "6             x3>=0               0.225001                 0.009651   \n",
       "7             x4>=0               0.179339                 0.041686   \n",
       "\n",
       "   Estimated TE (test)  \n",
       "0            -0.103333  \n",
       "1            -0.091456  \n",
       "2             0.046705  \n",
       "3            -1.490528  \n",
       "4             1.484483  \n",
       "5            -0.100372  \n",
       "6             0.035405  \n",
       "7             0.043306  "
      ]
     },
     "execution_count": 12,
     "metadata": {},
     "output_type": "execute_result"
    }
   ],
   "source": [
    "results = pd.DataFrame(list(zip(x_axis, tau, pred_tr, pred_te)), columns = ['Feature Condition', 'True Treatment Effect','Estimated TE (training)', 'Estimated TE (test)'])\n",
    "results"
   ]
  },
  {
   "cell_type": "code",
   "execution_count": 13,
   "metadata": {},
   "outputs": [
    {
     "name": "stderr",
     "output_type": "stream",
     "text": [
      " 99%|===================| 2366/2400 [00:17<00:00]        "
     ]
    },
    {
     "data": {
      "image/png": "[encoded data removed]",
      "text/plain": [
       "<Figure size 576x223.2 with 2 Axes>"
      ]
     },
     "metadata": {},
     "output_type": "display_data"
    }
   ],
   "source": [
    "# code adapted from https://github.com/microsoft/EconML\n",
    "import shap\n",
    "from econml.dml import CausalForestDML\n",
    "# fit causal forest with default parameters \n",
    "causal_forest = CausalForestDML()\n",
    "causal_forest.fit(Y, T, X=X, W=W)\n",
    "# calculate shap values of causal forest model \n",
    "shap_values = causal_forest.shap_values(X)\n",
    "# plot shap values \n",
    "shap.summary_plot(shap_values['Y0']['T0'])"
   ]
  }
 ],
 "metadata": {
  "kernelspec": {
   "display_name": "Python 3",
   "language": "python",
   "name": "python3"
  },
  "language_info": {
   "codemirror_mode": {
    "name": "ipython",
    "version": 3
   },
   "file_extension": ".py",
   "mimetype": "text/x-python",
   "name": "python",
   "nbconvert_exporter": "python",
   "pygments_lexer": "ipython3",
   "version": "3.8.3"
  }
 },
 "nbformat": 4,
 "nbformat_minor": 4
}
